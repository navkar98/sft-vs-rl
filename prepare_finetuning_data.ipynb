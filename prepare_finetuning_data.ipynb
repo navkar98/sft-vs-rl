{
 "cells": [
  {
   "cell_type": "code",
   "execution_count": 3,
   "id": "e1db820b",
   "metadata": {},
   "outputs": [],
   "source": [
    "import os\n",
    "import json\n",
    "import glob\n",
    "from typing import List, Dict, Any\n",
    "import pandas as pd"
   ]
  },
  {
   "cell_type": "code",
   "execution_count": 4,
   "id": "f8d480b9",
   "metadata": {},
   "outputs": [],
   "source": [
    "\n",
    "def load_jsonl_files(directory_path: str) -> List[Dict[str, Any]]:\n",
    "    \"\"\"\n",
    "    Load all JSONL files from a directory and combine the data.\n",
    "    \n",
    "    Args:\n",
    "        directory_path: Path to the directory containing JSONL files\n",
    "        \n",
    "    Returns:\n",
    "        A list of all examples from all JSONL files\n",
    "    \"\"\"\n",
    "    # Get all JSONL files in the directory\n",
    "    jsonl_files = glob.glob(os.path.join(directory_path, \"*.jsonl\"))\n",
    "    \n",
    "    if not jsonl_files:\n",
    "        print(f\"No JSONL files found in {directory_path}\")\n",
    "        return []\n",
    "    \n",
    "    # Sort the files to process them in order\n",
    "    jsonl_files.sort()\n",
    "    \n",
    "    all_examples = []\n",
    "    file_stats = {}\n",
    "    \n",
    "    # Process each file\n",
    "    for file_path in jsonl_files:\n",
    "        file_name = os.path.basename(file_path)\n",
    "        print(f\"Processing file: {file_name}\")\n",
    "        \n",
    "        examples = []\n",
    "        try:\n",
    "            with open(file_path, 'r', encoding='utf-8') as f:\n",
    "                for line in f:\n",
    "                    if line.strip():  # Skip empty lines\n",
    "                        example = json.loads(line)\n",
    "                        examples.append(example)\n",
    "            \n",
    "            file_stats[file_name] = len(examples)\n",
    "            all_examples.extend(examples)\n",
    "            \n",
    "        except json.JSONDecodeError as e:\n",
    "            print(f\"Error decoding JSON in file {file_name}: {e}\")\n",
    "        except Exception as e:\n",
    "            print(f\"Error processing file {file_name}: {e}\")\n",
    "    \n",
    "    # Print summary statistics\n",
    "    print(\"\\nSummary:\")\n",
    "    print(f\"Total files processed: {len(jsonl_files)}\")\n",
    "    print(f\"Total examples loaded: {len(all_examples)}\")\n",
    "    print(\"\\nExamples per file:\")\n",
    "    for file_name, count in file_stats.items():\n",
    "        print(f\"  {file_name}: {count} examples\")\n",
    "    \n",
    "    return all_examples"
   ]
  },
  {
   "cell_type": "code",
   "execution_count": null,
   "id": "a466ac48",
   "metadata": {},
   "outputs": [
    {
     "name": "stdout",
     "output_type": "stream",
     "text": [
      "Processing file: 0_15000.jsonl\n",
      "Processing file: 105000_120000.jsonl\n",
      "Processing file: 120000_135000.jsonl\n",
      "Processing file: 135000_150000.jsonl\n",
      "Processing file: 150000_165000.jsonl\n",
      "Processing file: 15000_30000.jsonl\n",
      "Processing file: 165000_180000.jsonl\n",
      "Processing file: 180000_195000.jsonl\n",
      "Processing file: 195000_210000.jsonl\n",
      "Processing file: 210000_225000.jsonl\n",
      "Processing file: 225000_240000.jsonl\n",
      "Processing file: 240000_255000.jsonl\n",
      "Processing file: 255000_270000.jsonl\n",
      "Processing file: 270000_285000.jsonl\n",
      "Processing file: 285000_300000.jsonl\n",
      "Processing file: 300000_315000.jsonl\n",
      "Processing file: 30000_45000.jsonl\n",
      "Processing file: 315000_330000.jsonl\n",
      "Processing file: 45000_60000.jsonl\n",
      "Processing file: 60000_75000.jsonl\n",
      "Processing file: 75000_90000.jsonl\n",
      "Processing file: 90000_105000.jsonl\n",
      "\n",
      "Summary:\n",
      "Total files processed: 22\n",
      "Total examples loaded: 327680\n",
      "\n",
      "Examples per file:\n",
      "  0_15000.jsonl: 15000 examples\n",
      "  105000_120000.jsonl: 15000 examples\n",
      "  120000_135000.jsonl: 15000 examples\n",
      "  135000_150000.jsonl: 15000 examples\n",
      "  150000_165000.jsonl: 15000 examples\n",
      "  15000_30000.jsonl: 15000 examples\n",
      "  165000_180000.jsonl: 15000 examples\n",
      "  180000_195000.jsonl: 15000 examples\n",
      "  195000_210000.jsonl: 15000 examples\n",
      "  210000_225000.jsonl: 15000 examples\n",
      "  225000_240000.jsonl: 15000 examples\n",
      "  240000_255000.jsonl: 15000 examples\n",
      "  255000_270000.jsonl: 15000 examples\n",
      "  270000_285000.jsonl: 15000 examples\n",
      "  285000_300000.jsonl: 15000 examples\n",
      "  300000_315000.jsonl: 15000 examples\n",
      "  30000_45000.jsonl: 15000 examples\n",
      "  315000_330000.jsonl: 12680 examples\n",
      "  45000_60000.jsonl: 15000 examples\n",
      "  60000_75000.jsonl: 15000 examples\n",
      "  75000_90000.jsonl: 15000 examples\n",
      "  90000_105000.jsonl: 15000 examples\n"
     ]
    }
   ],
   "source": [
    "directory_path = \"results\" \n",
    "\n",
    "all_data = load_jsonl_files(directory_path)"
   ]
  },
  {
   "cell_type": "code",
   "execution_count": 34,
   "id": "949fd8d6",
   "metadata": {},
   "outputs": [
    {
     "data": {
      "text/plain": [
       "327680"
      ]
     },
     "execution_count": 34,
     "metadata": {},
     "output_type": "execute_result"
    }
   ],
   "source": [
    "len(all_data)"
   ]
  },
  {
   "cell_type": "code",
   "execution_count": 10,
   "id": "9373c71c",
   "metadata": {},
   "outputs": [],
   "source": [
    "import pandas as pd"
   ]
  },
  {
   "cell_type": "code",
   "execution_count": 11,
   "id": "7c08e4ef",
   "metadata": {},
   "outputs": [],
   "source": [
    "data = pd.read_parquet(\"train.parquet\")"
   ]
  },
  {
   "cell_type": "code",
   "execution_count": null,
   "id": "9f797059",
   "metadata": {},
   "outputs": [],
   "source": [
    "\"\"\"<|im_start|>system\\nYou are a helpful assistant. You first thinks about the reasoning process in the mind and then provides the user with the answer.<|im_end|>\\n<|im_start|>user\\n Using the numbers {numbers}, create an equation that equals {target}. You can use basic arithmetic operations (+, -, *, /) and each number can only be used once. Show your work in <think> </think> tags. And return the final answer in <answer> </answer> tags, for example <answer> (1 + 2) / 3 </answer>.<|im_end|>\\n<|im_start|>assistant\\nLet me solve this step by step.\\n<think>\"\"\""
   ]
  },
  {
   "cell_type": "code",
   "execution_count": null,
   "id": "cb2acccd",
   "metadata": {},
   "outputs": [],
   "source": [
    "message = [{\"role\": \"system\", \"content\": \"You are a helpful assistant. You first thinks about the reasoning process in the mind and then provides the user with the answer.\"},\n",
    "           {\"role\": \"user\", \"content\": \"Using the numbers {numbers}, create an equation that equals {target}. You can use basic arithmetic operations (+, -, *, /) and each number can only be used once. Show your work in <think> </think> tags. And return the final answer in <answer> </answer> tags, for example <answer> (1 + 2) / 3 </answer>.\"}\n",
    "           ]"
   ]
  },
  {
   "cell_type": "code",
   "execution_count": 19,
   "id": "f88ee88f",
   "metadata": {},
   "outputs": [],
   "source": [
    "system_prompt = \"You are a helpful assistant. You first thinks about the reasoning process in the mind and then provides the user with the answer.\"\n",
    "user_prompt = \"Using the numbers {numbers}, create an equation that equals {target}. You can use basic arithmetic operations (+, -, *, /) and each number can only be used once. Show your work in <think> </think> tags. And return the final answer in <answer> </answer> tags, for example <answer> (1 + 2) / 3 </answer>.\""
   ]
  },
  {
   "cell_type": "code",
   "execution_count": 22,
   "id": "17e17b23",
   "metadata": {},
   "outputs": [
    {
     "data": {
      "text/html": [
       "<div>\n",
       "<style scoped>\n",
       "    .dataframe tbody tr th:only-of-type {\n",
       "        vertical-align: middle;\n",
       "    }\n",
       "\n",
       "    .dataframe tbody tr th {\n",
       "        vertical-align: top;\n",
       "    }\n",
       "\n",
       "    .dataframe thead th {\n",
       "        text-align: right;\n",
       "    }\n",
       "</style>\n",
       "<table border=\"1\" class=\"dataframe\">\n",
       "  <thead>\n",
       "    <tr style=\"text-align: right;\">\n",
       "      <th></th>\n",
       "      <th>target</th>\n",
       "      <th>nums</th>\n",
       "      <th>data_source</th>\n",
       "      <th>prompt</th>\n",
       "      <th>ability</th>\n",
       "      <th>reward_model</th>\n",
       "      <th>extra_info</th>\n",
       "    </tr>\n",
       "  </thead>\n",
       "  <tbody>\n",
       "    <tr>\n",
       "      <th>0</th>\n",
       "      <td>98</td>\n",
       "      <td>[44, 19, 35]</td>\n",
       "      <td>countdown</td>\n",
       "      <td>[{'content': '&lt;|im_start|&gt;system\n",
       "You are a hel...</td>\n",
       "      <td>math</td>\n",
       "      <td>{'ground_truth': {'numbers': [44, 19, 35], 'ta...</td>\n",
       "      <td>{'index': 0, 'split': 'train'}</td>\n",
       "    </tr>\n",
       "    <tr>\n",
       "      <th>1</th>\n",
       "      <td>64</td>\n",
       "      <td>[63, 95, 96]</td>\n",
       "      <td>countdown</td>\n",
       "      <td>[{'content': '&lt;|im_start|&gt;system\n",
       "You are a hel...</td>\n",
       "      <td>math</td>\n",
       "      <td>{'ground_truth': {'numbers': [63, 95, 96], 'ta...</td>\n",
       "      <td>{'index': 1, 'split': 'train'}</td>\n",
       "    </tr>\n",
       "    <tr>\n",
       "      <th>2</th>\n",
       "      <td>28</td>\n",
       "      <td>[95, 11, 56]</td>\n",
       "      <td>countdown</td>\n",
       "      <td>[{'content': '&lt;|im_start|&gt;system\n",
       "You are a hel...</td>\n",
       "      <td>math</td>\n",
       "      <td>{'ground_truth': {'numbers': [95, 11, 56], 'ta...</td>\n",
       "      <td>{'index': 2, 'split': 'train'}</td>\n",
       "    </tr>\n",
       "    <tr>\n",
       "      <th>3</th>\n",
       "      <td>48</td>\n",
       "      <td>[19, 74, 45]</td>\n",
       "      <td>countdown</td>\n",
       "      <td>[{'content': '&lt;|im_start|&gt;system\n",
       "You are a hel...</td>\n",
       "      <td>math</td>\n",
       "      <td>{'ground_truth': {'numbers': [19, 74, 45], 'ta...</td>\n",
       "      <td>{'index': 3, 'split': 'train'}</td>\n",
       "    </tr>\n",
       "    <tr>\n",
       "      <th>4</th>\n",
       "      <td>17</td>\n",
       "      <td>[49, 41, 73]</td>\n",
       "      <td>countdown</td>\n",
       "      <td>[{'content': '&lt;|im_start|&gt;system\n",
       "You are a hel...</td>\n",
       "      <td>math</td>\n",
       "      <td>{'ground_truth': {'numbers': [49, 41, 73], 'ta...</td>\n",
       "      <td>{'index': 4, 'split': 'train'}</td>\n",
       "    </tr>\n",
       "  </tbody>\n",
       "</table>\n",
       "</div>"
      ],
      "text/plain": [
       "   target          nums data_source  \\\n",
       "0      98  [44, 19, 35]   countdown   \n",
       "1      64  [63, 95, 96]   countdown   \n",
       "2      28  [95, 11, 56]   countdown   \n",
       "3      48  [19, 74, 45]   countdown   \n",
       "4      17  [49, 41, 73]   countdown   \n",
       "\n",
       "                                              prompt ability  \\\n",
       "0  [{'content': '<|im_start|>system\n",
       "You are a hel...    math   \n",
       "1  [{'content': '<|im_start|>system\n",
       "You are a hel...    math   \n",
       "2  [{'content': '<|im_start|>system\n",
       "You are a hel...    math   \n",
       "3  [{'content': '<|im_start|>system\n",
       "You are a hel...    math   \n",
       "4  [{'content': '<|im_start|>system\n",
       "You are a hel...    math   \n",
       "\n",
       "                                        reward_model  \\\n",
       "0  {'ground_truth': {'numbers': [44, 19, 35], 'ta...   \n",
       "1  {'ground_truth': {'numbers': [63, 95, 96], 'ta...   \n",
       "2  {'ground_truth': {'numbers': [95, 11, 56], 'ta...   \n",
       "3  {'ground_truth': {'numbers': [19, 74, 45], 'ta...   \n",
       "4  {'ground_truth': {'numbers': [49, 41, 73], 'ta...   \n",
       "\n",
       "                       extra_info  \n",
       "0  {'index': 0, 'split': 'train'}  \n",
       "1  {'index': 1, 'split': 'train'}  \n",
       "2  {'index': 2, 'split': 'train'}  \n",
       "3  {'index': 3, 'split': 'train'}  \n",
       "4  {'index': 4, 'split': 'train'}  "
      ]
     },
     "execution_count": 22,
     "metadata": {},
     "output_type": "execute_result"
    }
   ],
   "source": [
    "data.head()"
   ]
  },
  {
   "cell_type": "code",
   "execution_count": 26,
   "id": "15c44816",
   "metadata": {},
   "outputs": [
    {
     "name": "stderr",
     "output_type": "stream",
     "text": [
      "/home/mihirathale/anaconda3/envs/myenv/lib/python3.9/site-packages/tqdm/auto.py:21: TqdmWarning: IProgress not found. Please update jupyter and ipywidgets. See https://ipywidgets.readthedocs.io/en/stable/user_install.html\n",
      "  from .autonotebook import tqdm as notebook_tqdm\n"
     ]
    }
   ],
   "source": [
    "from datasets import load_dataset"
   ]
  },
  {
   "cell_type": "code",
   "execution_count": 30,
   "id": "54ae9084",
   "metadata": {},
   "outputs": [
    {
     "name": "stderr",
     "output_type": "stream",
     "text": [
      "Map: 100%|██████████| 327680/327680 [00:49<00:00, 6600.02 examples/s]\n"
     ]
    }
   ],
   "source": [
    "dataset = load_dataset(\"parquet\", data_files=\"train.parquet\")\n",
    "\n",
    "def get_sample(numbers, target):\n",
    "    message = [{\"role\": \"system\", \"content\": system_prompt},\n",
    "               {\"role\": \"user\", \"content\": user_prompt.format(numbers=numbers, target=target)}]\n",
    "    return {\"messages\": message}\n",
    "\n",
    "dataset = dataset.map(lambda x: get_sample(x[\"nums\"], x[\"target\"]))\n",
    "\n"
   ]
  },
  {
   "cell_type": "code",
   "execution_count": 38,
   "id": "c7985528",
   "metadata": {},
   "outputs": [
    {
     "data": {
      "text/plain": [
       "{'target': 98,\n",
       " 'nums': [44, 19, 35],\n",
       " 'data_source': 'countdown',\n",
       " 'prompt': [{'content': '<|im_start|>system\\nYou are a helpful assistant. You first thinks about the reasoning process in the mind and then provides the user with the answer.<|im_end|>\\n<|im_start|>user\\n Using the numbers [44, 19, 35], create an equation that equals 98. You can use basic arithmetic operations (+, -, *, /) and each number can only be used once. Show your work in <think> </think> tags. And return the final answer in <answer> </answer> tags, for example <answer> (1 + 2) / 3 </answer>.<|im_end|>\\n<|im_start|>assistant\\nLet me solve this step by step.\\n<think>',\n",
       "   'role': 'user'}],\n",
       " 'ability': 'math',\n",
       " 'reward_model': {'ground_truth': {'numbers': [44, 19, 35], 'target': 98},\n",
       "  'style': 'rule'},\n",
       " 'extra_info': {'index': 0, 'split': 'train'},\n",
       " 'messages': [{'content': 'You are a helpful assistant. You first thinks about the reasoning process in the mind and then provides the user with the answer.',\n",
       "   'role': 'system'},\n",
       "  {'content': 'Using the numbers [44, 19, 35], create an equation that equals 98. You can use basic arithmetic operations (+, -, *, /) and each number can only be used once. Show your work in <think> </think> tags. And return the final answer in <answer> </answer> tags, for example <answer> (1 + 2) / 3 </answer>.',\n",
       "   'role': 'user'}]}"
      ]
     },
     "execution_count": 38,
     "metadata": {},
     "output_type": "execute_result"
    }
   ],
   "source": [
    "next(iter(dataset[\"train\"]))"
   ]
  },
  {
   "cell_type": "code",
   "execution_count": 46,
   "id": "4ab602ea",
   "metadata": {},
   "outputs": [],
   "source": [
    "import countdown_verifier\n",
    "from tqdm import tqdm\n",
    "\n",
    "def get_correct_samples(data, model_responses):\n",
    "    correct_samples = []\n",
    "    for data_sample, model_response in tqdm(zip(data, model_responses),total=len(data)):\n",
    "        model_response = model_response[1]['content']\n",
    "        ground_truth = {'target': data_sample[\"target\"], 'numbers': data_sample[\"nums\"]}\n",
    "        score = countdown_verifier.compute_score(\n",
    "                solution_str=model_response,\n",
    "                ground_truth=ground_truth,\n",
    "                method='strict',\n",
    "                format_score=0.1,\n",
    "                score=1.\n",
    "            )\n",
    "        if score == 1.0:\n",
    "            messages = data_sample[\"messages\"]\n",
    "            messages.append({\"role\": \"assistant\", \"content\": \"Let me solve this step by step.\\n<think>\" + model_response})\n",
    "        \n",
    "            correct_samples.append(messages)\n",
    "        \n",
    "    return correct_samples\n",
    "\n",
    "correct_samples = get_correct_samples(dataset['train'], all_data)"
   ]
  },
  {
   "cell_type": "code",
   "execution_count": 49,
   "id": "36514742",
   "metadata": {},
   "outputs": [
    {
     "data": {
      "text/plain": [
       "6645"
      ]
     },
     "execution_count": 49,
     "metadata": {},
     "output_type": "execute_result"
    }
   ],
   "source": [
    "len(correct_samples)"
   ]
  },
  {
   "cell_type": "code",
   "execution_count": 51,
   "id": "d43384c5",
   "metadata": {},
   "outputs": [],
   "source": [
    "with open(\"correct_samples.jsonl\", \"w\") as f:\n",
    "\n",
    "    for sample in correct_samples:\n",
    "        sample = {\"messages\": sample}\n",
    "        f.write(json.dumps(sample) + \"\\n\")"
   ]
  },
  {
   "cell_type": "code",
   "execution_count": null,
   "id": "6739e5ca",
   "metadata": {},
   "outputs": [
    {
     "name": "stderr",
     "output_type": "stream",
     "text": [
      "100%|██████████| 327680/327680 [00:53<00:00, 6078.46it/s]\n"
     ]
    }
   ],
   "source": [
    "from tqdm import tqdm\n",
    "\n",
    "all_messages = []\n",
    "\n",
    "dataset = \n",
    "for i, row in tqdm(data.iterrows(), total=len(data)):\n",
    "    numbers = row[\"nums\"]\n",
    "    target = row[\"target\"]\n",
    "    \n",
    "    message = [{\"role\": \"system\", \"content\": system_prompt},\n",
    "               {\"role\": \"user\", \"content\": user_prompt.format(numbers=numbers, target=target)}]\n",
    "    all_messages.append(message)"
   ]
  },
  {
   "cell_type": "code",
   "execution_count": 42,
   "id": "0040bf0e",
   "metadata": {},
   "outputs": [
    {
     "data": {
      "text/plain": [
       "{'target': 98,\n",
       " 'nums': [44, 19, 35],\n",
       " 'data_source': 'countdown',\n",
       " 'prompt': [{'content': '<|im_start|>system\\nYou are a helpful assistant. You first thinks about the reasoning process in the mind and then provides the user with the answer.<|im_end|>\\n<|im_start|>user\\n Using the numbers [44, 19, 35], create an equation that equals 98. You can use basic arithmetic operations (+, -, *, /) and each number can only be used once. Show your work in <think> </think> tags. And return the final answer in <answer> </answer> tags, for example <answer> (1 + 2) / 3 </answer>.<|im_end|>\\n<|im_start|>assistant\\nLet me solve this step by step.\\n<think>',\n",
       "   'role': 'user'}],\n",
       " 'ability': 'math',\n",
       " 'reward_model': {'ground_truth': {'numbers': [44, 19, 35], 'target': 98},\n",
       "  'style': 'rule'},\n",
       " 'extra_info': {'index': 0, 'split': 'train'},\n",
       " 'messages': [{'content': 'You are a helpful assistant. You first thinks about the reasoning process in the mind and then provides the user with the answer.',\n",
       "   'role': 'system'},\n",
       "  {'content': 'Using the numbers [44, 19, 35], create an equation that equals 98. You can use basic arithmetic operations (+, -, *, /) and each number can only be used once. Show your work in <think> </think> tags. And return the final answer in <answer> </answer> tags, for example <answer> (1 + 2) / 3 </answer>.',\n",
       "   'role': 'user'}]}"
      ]
     },
     "execution_count": 42,
     "metadata": {},
     "output_type": "execute_result"
    }
   ],
   "source": [
    "next(iter(dataset[\"train\"]))"
   ]
  },
  {
   "cell_type": "code",
   "execution_count": null,
   "id": "50b16261",
   "metadata": {},
   "outputs": [],
   "source": []
  }
 ],
 "metadata": {
  "kernelspec": {
   "display_name": "myenv",
   "language": "python",
   "name": "python3"
  },
  "language_info": {
   "codemirror_mode": {
    "name": "ipython",
    "version": 3
   },
   "file_extension": ".py",
   "mimetype": "text/x-python",
   "name": "python",
   "nbconvert_exporter": "python",
   "pygments_lexer": "ipython3",
   "version": "3.9.19"
  }
 },
 "nbformat": 4,
 "nbformat_minor": 5
}
